{
 "cells": [
  {
   "cell_type": "code",
   "execution_count": 85,
   "metadata": {
    "collapsed": true
   },
   "outputs": [],
   "source": [
    "import pandas as pd\n",
    "from pandas import *\n",
    "import json"
   ]
  },
  {
   "cell_type": "code",
   "execution_count": 87,
   "metadata": {},
   "outputs": [],
   "source": [
    "df = pd.read_csv('../static/globe-themes/globe-theme-data.csv')"
   ]
  },
  {
   "cell_type": "code",
   "execution_count": 88,
   "metadata": {
    "collapsed": true
   },
   "outputs": [],
   "source": [
    "def format_number(x, decimals):\n",
    "    a = float(str(x).rstrip('0'))\n",
    "    a = round(a, decimals) if len(str(a).split('.')[1]) > decimals else a\n",
    "    return a"
   ]
  },
  {
   "cell_type": "code",
   "execution_count": 93,
   "metadata": {},
   "outputs": [],
   "source": [
    "def compress():\n",
    "    selection = df[['lat', 'lon', 'HFO_s', 'DRO_s', 'ECO_S_s']]\n",
    "#     selection.columns = ['lat', 'lon', 'val']\n",
    "    selection = selection.reset_index(drop=True)\n",
    "    selection.lat = selection.lat.apply(lambda x: format_number(x, 3))\n",
    "    selection.lon = selection.lon.apply(lambda x: format_number(x, 3))\n",
    "    \n",
    "    for variable in ['HFO_s', 'DRO_s', 'ECO_S_s']:\n",
    "        selection[variable] = selection[variable].apply(lambda x: format_number(x, 1))\n",
    "        selection[variable] = selection[variable].apply(lambda x: '' if x == -32767 else str(x) if x > 0 else str(int(x)))\n",
    "\n",
    "#     selection = selection.sample(frac=1)\n",
    "    selection = selection.sort_values('hfo')\n",
    "        \n",
    "    return selection"
   ]
  },
  {
   "cell_type": "markdown",
   "metadata": {},
   "source": [
    "### as JSON"
   ]
  },
  {
   "cell_type": "code",
   "execution_count": 90,
   "metadata": {
    "collapsed": true
   },
   "outputs": [],
   "source": [
    "c = compress()\n",
    "\n",
    "tmp = {}\n",
    "\n",
    "for v in c.values:\n",
    "    if v[0] not in tmp:\n",
    "        tmp[v[0]] = []\n",
    "\n",
    "    tmp[v[0]].append(v[1])\n",
    "\n",
    "    for i in range(3):\n",
    "        if (v[i + 2] == ''):\n",
    "            tmp[v[0]].append(-1)\n",
    "        elif v[i + 2][-1:] == '0':\n",
    "            tmp[v[0]].append(int(v[i + 2][:1]))\n",
    "        else:\n",
    "            tmp[v[0]].append(float(v[i + 2]))\n",
    "\n",
    "result = {}\n",
    "result['data'] = []\n",
    "\n",
    "for k, v in tmp.iteritems():\n",
    "    item = {}\n",
    "    item[k] = v\n",
    "    result['data'].append(item)\n",
    "\n",
    "with open('../static/globe-themes/globe-data.json', 'w') as f:\n",
    "    f.write(json.dumps(result, separators=(',', ':')))"
   ]
  },
  {
   "cell_type": "markdown",
   "metadata": {},
   "source": [
    "### as CSV"
   ]
  },
  {
   "cell_type": "code",
   "execution_count": 94,
   "metadata": {
    "collapsed": true
   },
   "outputs": [],
   "source": [
    "c = compress()\n",
    "c.to_csv('../static/globe-themes/globe-data.csv', index=False)"
   ]
  }
 ],
 "metadata": {
  "kernelspec": {
   "display_name": "Python 2",
   "language": "python",
   "name": "python2"
  },
  "language_info": {
   "codemirror_mode": {
    "name": "ipython",
    "version": 2
   },
   "file_extension": ".py",
   "mimetype": "text/x-python",
   "name": "python",
   "nbconvert_exporter": "python",
   "pygments_lexer": "ipython2",
   "version": "2.7.13"
  }
 },
 "nbformat": 4,
 "nbformat_minor": 2
}
